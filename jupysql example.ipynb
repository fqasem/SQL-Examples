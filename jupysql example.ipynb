{
 "cells": [
  {
   "cell_type": "markdown",
   "id": "e73102c2",
   "metadata": {},
   "source": [
    "## Running SQL queries on Jupyter notebook"
   ]
  },
  {
   "cell_type": "markdown",
   "id": "f2fb2b5d",
   "metadata": {},
   "source": [
    "Note: https://ploomber.io/blog/sql-on-jupyter/"
   ]
  },
  {
   "cell_type": "code",
   "execution_count": null,
   "id": "3487ec21",
   "metadata": {},
   "outputs": [],
   "source": [
    "%pip install jupysql --quiet\n",
    "%pip install grpcio --quiet\n",
    "%pip install grpcio-status --quiet"
   ]
  },
  {
   "cell_type": "markdown",
   "id": "b29b0802",
   "metadata": {},
   "source": [
    "JupySQL allows you to run SQL in Jupyter/IPython via %sql and %%sql magics."
   ]
  },
  {
   "cell_type": "code",
   "execution_count": null,
   "id": "cc55c6c4",
   "metadata": {},
   "outputs": [],
   "source": [
    "%load_ext sql"
   ]
  },
  {
   "cell_type": "code",
   "execution_count": null,
   "id": "af098ee6",
   "metadata": {},
   "outputs": [],
   "source": [
    "%%sql sqlite://\n",
    "CREATE TABLE languages (name, rating, change);\n",
    "INSERT INTO languages VALUES ('Python', 14.44, 2.48);\n",
    "INSERT INTO languages VALUES ('C', 13.13, 1.50);\n",
    "INSERT INTO languages VALUES ('Java', 11.59, 0.40);\n",
    "INSERT INTO languages VALUES ('C++', 10.00, 1.98);"
   ]
  },
  {
   "cell_type": "code",
   "execution_count": null,
   "id": "bdf2cb80",
   "metadata": {},
   "outputs": [],
   "source": [
    "%sql SELECT * FROM languages"
   ]
  },
  {
   "cell_type": "code",
   "execution_count": null,
   "id": "a76ab541",
   "metadata": {},
   "outputs": [],
   "source": [
    "result = %sql SELECT * FROM languages WHERE rating > 10"
   ]
  },
  {
   "cell_type": "code",
   "execution_count": null,
   "id": "bca5ea33",
   "metadata": {},
   "outputs": [],
   "source": [
    "result"
   ]
  },
  {
   "cell_type": "markdown",
   "id": "ca5bf60a",
   "metadata": {},
   "source": [
    "In this section, we’ll learn how to create a table and query the database using the to_sql and read_sql functions provided by Pandas. This will be demonstrated on Seaborn’s tips dataset. First, install the below packages:"
   ]
  },
  {
   "cell_type": "code",
   "execution_count": null,
   "id": "aba62054",
   "metadata": {},
   "outputs": [],
   "source": [
    "%pip install pandas seaborn memory-profiler --quiet"
   ]
  },
  {
   "cell_type": "markdown",
   "id": "39281869",
   "metadata": {},
   "source": [
    "Now let’s use the to_sql function for saving the dataset in the database as a table."
   ]
  },
  {
   "cell_type": "code",
   "execution_count": 1,
   "id": "d9ecd92a",
   "metadata": {},
   "outputs": [
    {
     "data": {
      "text/plain": [
       "244"
      ]
     },
     "execution_count": 1,
     "metadata": {},
     "output_type": "execute_result"
    }
   ],
   "source": [
    "import seaborn as sb\n",
    "\n",
    "df = sb.load_dataset('tips')\n",
    "conn = \"sqlite:///example\"\n",
    "df.to_sql(\n",
    "            'tips',            \n",
    "            conn,                \n",
    "            if_exists='replace'\n",
    "           )"
   ]
  },
  {
   "cell_type": "markdown",
   "id": "86d13751",
   "metadata": {},
   "source": [
    "Let’s use the read_sql function to filter out some columns from this table."
   ]
  },
  {
   "cell_type": "code",
   "execution_count": 2,
   "id": "3f9e9006",
   "metadata": {},
   "outputs": [
    {
     "data": {
      "text/html": [
       "<div>\n",
       "<style scoped>\n",
       "    .dataframe tbody tr th:only-of-type {\n",
       "        vertical-align: middle;\n",
       "    }\n",
       "\n",
       "    .dataframe tbody tr th {\n",
       "        vertical-align: top;\n",
       "    }\n",
       "\n",
       "    .dataframe thead th {\n",
       "        text-align: right;\n",
       "    }\n",
       "</style>\n",
       "<table border=\"1\" class=\"dataframe\">\n",
       "  <thead>\n",
       "    <tr style=\"text-align: right;\">\n",
       "      <th></th>\n",
       "      <th>total_bill</th>\n",
       "      <th>tip</th>\n",
       "      <th>sex</th>\n",
       "    </tr>\n",
       "  </thead>\n",
       "  <tbody>\n",
       "    <tr>\n",
       "      <th>0</th>\n",
       "      <td>16.99</td>\n",
       "      <td>1.01</td>\n",
       "      <td>Female</td>\n",
       "    </tr>\n",
       "    <tr>\n",
       "      <th>1</th>\n",
       "      <td>10.34</td>\n",
       "      <td>1.66</td>\n",
       "      <td>Male</td>\n",
       "    </tr>\n",
       "    <tr>\n",
       "      <th>2</th>\n",
       "      <td>21.01</td>\n",
       "      <td>3.50</td>\n",
       "      <td>Male</td>\n",
       "    </tr>\n",
       "    <tr>\n",
       "      <th>3</th>\n",
       "      <td>23.68</td>\n",
       "      <td>3.31</td>\n",
       "      <td>Male</td>\n",
       "    </tr>\n",
       "    <tr>\n",
       "      <th>4</th>\n",
       "      <td>24.59</td>\n",
       "      <td>3.61</td>\n",
       "      <td>Female</td>\n",
       "    </tr>\n",
       "  </tbody>\n",
       "</table>\n",
       "</div>"
      ],
      "text/plain": [
       "   total_bill   tip     sex\n",
       "0       16.99  1.01  Female\n",
       "1       10.34  1.66    Male\n",
       "2       21.01  3.50    Male\n",
       "3       23.68  3.31    Male\n",
       "4       24.59  3.61  Female"
      ]
     },
     "execution_count": 2,
     "metadata": {},
     "output_type": "execute_result"
    }
   ],
   "source": [
    "import pandas as pd\n",
    "query_result = pd.read_sql(\"\"\"\n",
    "            SELECT total_bill, tip, sex\n",
    "            FROM tips\n",
    "            WHERE time='Dinner'\n",
    "            \"\"\", con=conn)\n",
    "query_result.head()"
   ]
  },
  {
   "cell_type": "markdown",
   "id": "34ed9c28",
   "metadata": {},
   "source": [
    "Running read_sql queries on large datasets can easily lead to out-of-memory issues. This function supports a chunksize argument, however, this argument is only used for creating chunks of dataframes to be returned to the user. By default, it will fetch all data into memory at once before chunking unless the database driver has a feature to support server-side-cursors.\n",
    "\n",
    "Let’s add the above code to a Python script named read_tips.py and run a memory profiler to see the memory usage:"
   ]
  },
  {
   "cell_type": "code",
   "execution_count": 3,
   "id": "dddcdb02",
   "metadata": {},
   "outputs": [
    {
     "name": "stderr",
     "output_type": "stream",
     "text": [
      "Could not find script read_tips.py\n"
     ]
    }
   ],
   "source": [
    "!python -m memory_profiler read_tips.py"
   ]
  },
  {
   "cell_type": "markdown",
   "id": "a6d7f3c0",
   "metadata": {},
   "source": [
    "Now set the chunksize parameter and check that the memory usage remains the same:"
   ]
  },
  {
   "cell_type": "code",
   "execution_count": null,
   "id": "3381bff8",
   "metadata": {},
   "outputs": [],
   "source": [
    "!python -m memory_profiler read_tips_chunksize.py"
   ]
  },
  {
   "cell_type": "markdown",
   "id": "5b6b0401",
   "metadata": {},
   "source": [
    "## Database drivers\n",
    "Database drivers like psycopg2 and sqlite3 can also be directly used for running SQL queries from notebooks. Let’s see a simple example using sqlite3:\n",
    "\n",
    "First, we need to create a new database and call sqlite3.connect() to create a connection to the database tutorial.db in the current working directory."
   ]
  },
  {
   "cell_type": "code",
   "execution_count": null,
   "id": "bb930c4c",
   "metadata": {},
   "outputs": [],
   "source": [
    "import sqlite3\n",
    "con = sqlite3.connect(\"tutorial.db\")"
   ]
  },
  {
   "cell_type": "markdown",
   "id": "d133d7c6",
   "metadata": {},
   "source": [
    "The con represents the connection to the on-disk database. We will also need to use a database cursor to execute SQL statements."
   ]
  },
  {
   "cell_type": "code",
   "execution_count": null,
   "id": "0201f83b",
   "metadata": {},
   "outputs": [],
   "source": [
    "cur = con.cursor()\n",
    "cur.execute(\"CREATE TABLE movie(title, year, score)\")\n",
    "cur.execute(\"\"\"\n",
    "    INSERT INTO movie VALUES\n",
    "        ('Monty Python and the Holy Grail', 1975, 8.2),\n",
    "        ('And Now for Something Completely Different', 1971, 7.5)\n",
    "\"\"\")\n",
    "con.commit()\n",
    "res = cur.execute(\"SELECT score FROM movie\")\n",
    "res.fetchall()"
   ]
  }
 ],
 "metadata": {
  "kernelspec": {
   "display_name": "base",
   "language": "python",
   "name": "python3"
  },
  "language_info": {
   "codemirror_mode": {
    "name": "ipython",
    "version": 3
   },
   "file_extension": ".py",
   "mimetype": "text/x-python",
   "name": "python",
   "nbconvert_exporter": "python",
   "pygments_lexer": "ipython3",
   "version": "3.13.2"
  }
 },
 "nbformat": 4,
 "nbformat_minor": 5
}
